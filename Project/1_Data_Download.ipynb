{
 "cells": [
  {
   "cell_type": "code",
   "execution_count": null,
   "id": "707a14f5",
   "metadata": {},
   "outputs": [],
   "source": [
    "import requests\n",
    "import gzip\n",
    "import os\n",
    "import json\n",
    "\n",
    "# --- 설정 ---\n",
    "# 다운로드할 날짜\n",
    "TARGET_DATE = \"2025-06-01\"\n",
    "# 데이터를 저장할 경로\n",
    "OUTPUT_DIR = r\"C:\\Users\\EL040\\Desktop\\MS_3rd-Project\\Project\\data\"\n",
    "# ---\n",
    "\n",
    "# 저장할 폴더가 없으면 생성\n",
    "os.makedirs(OUTPUT_DIR, exist_ok=True)\n",
    "\n",
    "print(f\"[{TARGET_DATE}] 데이터 다운로드를 시작합니다.\")\n",
    "print(f\"저장 위치: {OUTPUT_DIR}\")\n",
    "\n",
    "# 0시부터 23시까지 시간대별로 다운로드\n",
    "for hour in range(24):\n",
    "    # 다운로드 URL 생성\n",
    "    file_name = f\"{TARGET_DATE}-{hour}.json.gz\"\n",
    "    url = f\"https://data.gharchive.org/{file_name}\"\n",
    "    \n",
    "    gz_path = os.path.join(OUTPUT_DIR, file_name)\n",
    "    json_path = os.path.join(OUTPUT_DIR, file_name.replace(\".gz\", \"\"))\n",
    "\n",
    "    try:\n",
    "        # 1. 데이터 다운로드\n",
    "        print(f\"다운로드 중... {url}\")\n",
    "        response = requests.get(url, stream=True)\n",
    "        response.raise_for_status() # 오류가 있으면 예외 발생\n",
    "        \n",
    "        with open(gz_path, 'wb') as f:\n",
    "            f.write(response.content)\n",
    "        \n",
    "        # 2. 압축 해제\n",
    "        print(f\"압축 해제 중... {gz_path}\")\n",
    "        with gzip.open(gz_path, 'rb') as f_in:\n",
    "            with open(json_path, 'wb') as f_out:\n",
    "                f_out.write(f_in.read())\n",
    "                \n",
    "        # 3. 원본 .gz 파일 삭제\n",
    "        os.remove(gz_path)\n",
    "        print(f\"완료: {json_path}\")\n",
    "\n",
    "    except requests.exceptions.HTTPError as e:\n",
    "        print(f\"오류: {url} 파일을 찾을 수 없습니다. (HTTP Status: {e.response.status_code})\")\n",
    "    except Exception as e:\n",
    "        print(f\"알 수 없는 오류 발생: {e}\")\n",
    "\n",
    "print(\"모든 작업이 완료되었습니다.\")"
   ]
  }
 ],
 "metadata": {
  "kernelspec": {
   "display_name": "guardian_poc",
   "language": "python",
   "name": "python3"
  },
  "language_info": {
   "codemirror_mode": {
    "name": "ipython",
    "version": 3
   },
   "file_extension": ".py",
   "mimetype": "text/x-python",
   "name": "python",
   "nbconvert_exporter": "python",
   "pygments_lexer": "ipython3",
   "version": "3.10.18"
  }
 },
 "nbformat": 4,
 "nbformat_minor": 5
}

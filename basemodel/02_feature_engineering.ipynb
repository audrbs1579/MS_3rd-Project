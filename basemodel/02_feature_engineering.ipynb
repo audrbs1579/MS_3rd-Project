{
 "cells": [
  {
   "cell_type": "markdown",
   "id": "12953d8b",
   "metadata": {},
   "source": [
    "# 02) 피처 추출 & 정규화\n",
    "- GH Archive raw(.json.gz)에서 이벤트별 피처를 추출 → 원-핫 인코딩 → 결측/스케일 정리.\n",
    "- RobustScaler → MinMaxScaler(0~1).\n",
    "- 산출물: `features.parquet`, `robust_*.joblib`, `minmax_*.joblib`, `features_*.txt`"
   ]
  },
  {
   "cell_type": "code",
   "execution_count": null,
   "id": "7d07fb65",
   "metadata": {},
   "outputs": [],
   "source": [
    "\n",
    "BASE_DIR = r\"C:\\Users\\EL040\\Desktop\\MS_3rd-Project\\basemodel\"\n",
    "SPLIT = \"train\"   # \"train\" 또는 \"test\"\n",
    "USE_FILTERED = False  # True면 *.filtered.json.gz만 사용\n",
    "TAG = SPLIT\n"
   ]
  },
  {
   "cell_type": "code",
   "execution_count": null,
   "id": "d4b699c4",
   "metadata": {},
   "outputs": [],
   "source": [
    "\n",
    "import os, gzip\n",
    "import pandas as pd\n",
    "from tqdm import tqdm\n",
    "\n",
    "from common import get_paths, parse_json_gz, extract_features_from_event, build_dataframe, scale_and_save\n",
    "\n",
    "paths = get_paths(BASE_DIR)\n",
    "raw_dir = paths[\"data_train_raw\"] if SPLIT == \"train\" else paths[\"data_test_raw\"]\n",
    "out_dir = paths[\"data_train_feat\"] if SPLIT == \"train\" else paths[\"data_test_feat\"]\n",
    "scaler_dir = paths[\"model_dir\"]\n",
    "\n",
    "files = sorted([os.path.join(raw_dir, f) for f in os.listdir(raw_dir) if f.endswith(\".json.gz\") and (f.endswith(\".filtered.json.gz\") if USE_FILTERED else True)])\n",
    "\n",
    "print(\"Input files:\", len(files))\n",
    "feats = []\n",
    "for fp in tqdm(files, ncols=30, desc=\"parse\"):\n",
    "    for evt in parse_json_gz(fp):\n",
    "        fd = extract_features_from_event(evt)\n",
    "        if fd is not None:\n",
    "            feats.append(fd)\n",
    "\n",
    "df = build_dataframe(feats)\n",
    "print(\"Raw feature frame:\", df.shape)\n",
    "if df.empty:\n",
    "    raise SystemExit(\"No features extracted. Check input files or filters.\")\n",
    "\n",
    "# Save raw features (optional)\n",
    "raw_feat_path = os.path.join(out_dir, \"features_raw.parquet\")\n",
    "df.to_parquet(raw_feat_path, index=False)\n",
    "print(\"Saved raw features:\", raw_feat_path)\n",
    "\n",
    "# Scale and save scalers\n",
    "X_scaled, robust, mm, cols = scale_and_save(df, scaler_dir, TAG)\n",
    "print(\"Scaled shape:\", X_scaled.shape, \"Num features:\", len(cols))\n",
    "\n",
    "# Persist scaled features\n",
    "scaled_feat_path = os.path.join(out_dir, \"features.parquet\")\n",
    "pd.DataFrame(X_scaled, columns=cols).to_parquet(scaled_feat_path, index=False)\n",
    "print(\"Saved scaled features:\", scaled_feat_path)\n"
   ]
  }
 ],
 "metadata": {
  "language_info": {
   "name": "python"
  }
 },
 "nbformat": 4,
 "nbformat_minor": 5
}

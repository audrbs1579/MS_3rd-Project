{
 "cells": [
  {
   "cell_type": "code",
   "execution_count": 3,
   "id": "44f304b9",
   "metadata": {},
   "outputs": [
    {
     "name": "stdout",
     "output_type": "stream",
     "text": [
      "\n",
      "Processing directory: C:\\Users\\EL040\\Desktop\\MS_3rd-Project\\basemodel\\data\\train\\raw\n",
      "-> Found 240 files to decompress.\n"
     ]
    },
    {
     "name": "stderr",
     "output_type": "stream",
     "text": [
      "Decompressing: 100%|██████████| 240/240 [11:42<00:00,  2.93s/it]"
     ]
    },
    {
     "name": "stdout",
     "output_type": "stream",
     "text": [
      "-> Decompression and cleanup finished for this directory.\n",
      "\n",
      "Processing directory: C:\\Users\\EL040\\Desktop\\MS_3rd-Project\\basemodel\\data\\test\\raw\n",
      "-> No .gz files to decompress.\n",
      "\n",
      "All tasks completed.\n"
     ]
    },
    {
     "name": "stderr",
     "output_type": "stream",
     "text": [
      "\n"
     ]
    }
   ],
   "source": [
    "# %% [markdown]\n",
    "# # etc) Raw 데이터 전체 압축 해제\n",
    "# \n",
    "# - `data/train/raw`와 `data/test/raw` 폴더에 있는 모든 `.json.gz` 파일의 압축을 해제합니다.\n",
    "# - 압축 해제가 성공하면 원본 압축 파일(.gz)은 자동으로 삭제됩니다.\n",
    "\n",
    "# %%\n",
    "import os\n",
    "import gzip\n",
    "import shutil\n",
    "from tqdm import tqdm\n",
    "from common import get_paths\n",
    "\n",
    "# %%\n",
    "# ----- 1. 기본 경로 설정 -----\n",
    "BASE_DIR = r\"C:\\Users\\EL040\\Desktop\\MS_3rd-Project\\basemodel\"\n",
    "\n",
    "# ----- 2. 경로 불러오기 -----\n",
    "paths = get_paths(BASE_DIR)\n",
    "target_dirs = [paths[\"data_train_raw\"], paths[\"data_test_raw\"]]\n",
    "\n",
    "# %%\n",
    "# ----- 3. 압축 해제 로직 실행 -----\n",
    "\n",
    "def decompress_and_cleanup(directory_path):\n",
    "    \"\"\"지정된 디렉토리의 .gz 파일들을 압축 해제하고 원본을 삭제합니다.\"\"\"\n",
    "    \n",
    "    print(f\"\\nProcessing directory: {directory_path}\")\n",
    "    \n",
    "    # 1. 압축 해제할 .json.gz 파일 목록 찾기\n",
    "    gz_files = [f for f in os.listdir(directory_path) if f.endswith(\".json.gz\")]\n",
    "    \n",
    "    if not gz_files:\n",
    "        print(\"-> No .gz files to decompress.\")\n",
    "        return\n",
    "\n",
    "    print(f\"-> Found {len(gz_files)} files to decompress.\")\n",
    "    \n",
    "    # 2. 파일들을 순회하며 압축 해제 및 원본 삭제\n",
    "    for filename in tqdm(gz_files, desc=\"Decompressing\"):\n",
    "        source_path = os.path.join(directory_path, filename)\n",
    "        # .gz 확장자를 제거하여 목적지 파일 경로 생성\n",
    "        dest_path = source_path[:-3] \n",
    "\n",
    "        try:\n",
    "            # gzip으로 압축된 소스 파일을 열고, 일반 파일로 내용을 복사\n",
    "            with gzip.open(source_path, 'rb') as f_in:\n",
    "                with open(dest_path, 'wb') as f_out:\n",
    "                    shutil.copyfileobj(f_in, f_out)\n",
    "            \n",
    "            # 복사가 성공적으로 완료되면 원본 .gz 파일 삭제\n",
    "            os.remove(source_path)\n",
    "\n",
    "        except Exception as e:\n",
    "            print(f\"\\n[ERROR] Failed to process {source_path}: {e}\")\n",
    "            print(\"-> Original file will not be deleted.\")\n",
    "\n",
    "    print(f\"-> Decompression and cleanup finished for this directory.\")\n",
    "\n",
    "\n",
    "for directory in target_dirs:\n",
    "    decompress_and_cleanup(directory)\n",
    "\n",
    "print(\"\\nAll tasks completed.\")"
   ]
  }
 ],
 "metadata": {
  "kernelspec": {
   "display_name": "guardian_poc",
   "language": "python",
   "name": "python3"
  },
  "language_info": {
   "codemirror_mode": {
    "name": "ipython",
    "version": 3
   },
   "file_extension": ".py",
   "mimetype": "text/x-python",
   "name": "python",
   "nbconvert_exporter": "python",
   "pygments_lexer": "ipython3",
   "version": "3.10.18"
  }
 },
 "nbformat": 4,
 "nbformat_minor": 5
}

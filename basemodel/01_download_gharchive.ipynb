{
 "cells": [
  {
   "cell_type": "code",
   "execution_count": 5,
   "id": "23f26245",
   "metadata": {},
   "outputs": [],
   "source": [
    "import os\n",
    "import requests\n",
    "from datetime import datetime, timezone\n",
    "from tqdm import tqdm\n",
    "\n",
    "from common import get_paths, hour_urls, ensure_dir"
   ]
  },
  {
   "cell_type": "code",
   "execution_count": null,
   "id": "1aa34ebe",
   "metadata": {},
   "outputs": [],
   "source": [
    "BASE_DIR = r\"C:\\Users\\EL040\\Desktop\\MS_3rd-Project\\basemodel\"\n",
    "\n",
    "START_DATE = \"2025-01-01\" \n",
    "END_DATE   = \"2025-01-07\" \n",
    "TIMEOUT = 120\n",
    "\n",
    "START = f\"{START_DATE}T00:00:00Z\"\n",
    "END   = f\"{END_DATE}T23:59:59Z\"\n",
    "\n",
    "paths = get_paths(BASE_DIR)\n",
    "train_raw = paths[\"data_train_raw\"]\n",
    "test_raw  = paths[\"data_test_raw\"]\n",
    "ensure_dir(train_raw)\n",
    "ensure_dir(test_raw)\n",
    "\n",
    "start_utc = datetime.fromisoformat(START.replace(\"Z\", \"+00:00\")).astimezone(timezone.utc)\n",
    "end_utc   = datetime.fromisoformat(END.replace(\"Z\", \"+00:00\")).astimezone(timezone.utc)"
   ]
  },
  {
   "cell_type": "code",
   "execution_count": null,
   "id": "6626e091",
   "metadata": {},
   "outputs": [],
   "source": [
    "def silent_download_one(url: str, out_path: str, timeout: int = TIMEOUT) -> bool:\n",
    "    try:\n",
    "        if os.path.exists(out_path) and os.path.getsize(out_path) > 0:\n",
    "            return False\n",
    "        with requests.get(url, stream=True, timeout=timeout) as r:\n",
    "            r.raise_for_status()\n",
    "            with open(out_path, \"wb\") as f:\n",
    "                for chunk in r.iter_content(chunk_size=8192):\n",
    "                    if chunk:\n",
    "                        f.write(chunk)\n",
    "        return True\n",
    "    except Exception as e:\n",
    "        with open(out_path + \".ERR.txt\", \"w\", encoding=\"utf-8\") as ef:\n",
    "            ef.write(f\"Failed to download {url}\\n{repr(e)}\\n\")\n",
    "        return False"
   ]
  },
  {
   "cell_type": "code",
   "execution_count": null,
   "id": "64222ef2",
   "metadata": {},
   "outputs": [
    {
     "name": "stdout",
     "output_type": "stream",
     "text": [
      "총 168개 시간 파일 (train=84, test=84) 다운로드 시작\n"
     ]
    },
    {
     "name": "stderr",
     "output_type": "stream",
     "text": [
      "1주일 진행률: 100%|█| 168/168 "
     ]
    },
    {
     "name": "stdout",
     "output_type": "stream",
     "text": [
      "다운로드 완료\n",
      "  train → 성공 84, 건너뜀 0\n",
      "  test  → 성공 84, 건너뜀 0\n",
      "  실패: 0\n"
     ]
    },
    {
     "name": "stderr",
     "output_type": "stream",
     "text": [
      "\n"
     ]
    }
   ],
   "source": [
    "hours = list(hour_urls(start_utc, end_utc))\n",
    "n_total = len(hours)\n",
    "mid_idx = n_total // 2   # 앞 절반 → train, 뒤 절반 → test\n",
    "\n",
    "print(f\"총 {n_total}개 시간 파일 (train={mid_idx}, test={n_total-mid_idx}) 다운로드 시작\")\n",
    "\n",
    "ok_train = ok_test = skip_train = skip_test = fail_cnt = 0\n",
    "\n",
    "with tqdm(total=n_total, ncols=30, desc=\"다운로드 진행률\") as pbar:\n",
    "    for i, (hour_dt, url) in enumerate(hours):\n",
    "        target_dir = train_raw if i < mid_idx else test_raw\n",
    "        out_name = f\"{hour_dt.strftime('%Y-%m-%d')}-{hour_dt.hour}.json.gz\"\n",
    "        out_path = os.path.join(target_dir, out_name)\n",
    "\n",
    "        if os.path.exists(out_path) and os.path.getsize(out_path) > 0:\n",
    "            if i < mid_idx: skip_train += 1\n",
    "            else:           skip_test  += 1\n",
    "            pbar.update(1)\n",
    "            continue\n",
    "\n",
    "        result = silent_download_one(url, out_path)\n",
    "        if result:\n",
    "            if i < mid_idx: ok_train += 1\n",
    "            else:           ok_test  += 1\n",
    "        else:\n",
    "            fail_cnt += 1\n",
    "\n",
    "        pbar.update(1)\n",
    "\n",
    "print(\n",
    "    f\"\\n다운로드 완료\\n\"\n",
    "    f\"  train → 성공 {ok_train}, 건너뜀 {skip_train}\\n\"\n",
    "    f\"  test  → 성공 {ok_test}, 건너뜀 {skip_test}\\n\"\n",
    "    f\"  실패: {fail_cnt}\"\n",
    ")"
   ]
  }
 ],
 "metadata": {
  "kernelspec": {
   "display_name": "guardian_poc",
   "language": "python",
   "name": "python3"
  },
  "language_info": {
   "codemirror_mode": {
    "name": "ipython",
    "version": 3
   },
   "file_extension": ".py",
   "mimetype": "text/x-python",
   "name": "python",
   "nbconvert_exporter": "python",
   "pygments_lexer": "ipython3",
   "version": "3.10.18"
  }
 },
 "nbformat": 4,
 "nbformat_minor": 5
}

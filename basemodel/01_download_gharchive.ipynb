{
 "cells": [
  {
   "cell_type": "markdown",
   "id": "30221e62",
   "metadata": {},
   "source": [
    "# 01) GH Archive 주간 데이터 다운로드\n",
    "- 1주일(또는 지정 범위) 시간별 JSON.GZ 파일을 다운로드하여 `data/train/raw` 또는 `data/test/raw`에 저장합니다.\n",
    "- tqdm 진행바는 `ncols=30`으로 고정."
   ]
  },
  {
   "cell_type": "code",
   "execution_count": 1,
   "id": "f12328fe",
   "metadata": {},
   "outputs": [],
   "source": [
    "\n",
    "# 기본 설정 (Windows 로컬 경로에 맞게)\n",
    "BASE_DIR = r\"C:\\Users\\EL040\\Desktop\\MS_3rd-Project\\basemodel\"\n",
    "SPLIT = \"train\"   # \"train\" 또는 \"test\"\n",
    "START = \"2025-08-01T00:00:00Z\"  # UTC 기준 시작\n",
    "END   = \"2025-08-07T23:59:59Z\"  # UTC 기준 종료\n",
    "\n",
    "# (선택) 특정 repo/org만 필터링하여 저장하려면 여기서 지정 (None이면 전체 저장)\n",
    "# 예시: TARGET_ORGS = {\"pandas-dev\", \"pytorch\"}  /  TARGET_REPOS = {\"pandas-dev/pandas\"}\n",
    "TARGET_ORGS = None\n",
    "TARGET_REPOS = None\n"
   ]
  },
  {
   "cell_type": "code",
   "execution_count": null,
   "id": "dd0fa201",
   "metadata": {},
   "outputs": [],
   "source": [
    "\n",
    "import os, gzip, json\n",
    "from datetime import datetime, timezone\n",
    "from tqdm import tqdm\n",
    "\n",
    "from common import get_paths, hour_urls, download_one, parse_json_gz, ensure_dir\n",
    "\n",
    "paths = get_paths(BASE_DIR)\n",
    "raw_dir = paths[\"data_train_raw\"] if SPLIT == \"train\" else paths[\"data_test_raw\"]\n",
    "ensure_dir(raw_dir)\n",
    "\n",
    "start_utc = datetime.fromisoformat(START.replace(\"Z\", \"+00:00\")).astimezone(timezone.utc)\n",
    "end_utc   = datetime.fromisoformat(END.replace(\"Z\", \"+00:00\")).astimezone(timezone.utc)\n",
    "\n",
    "print(\"Download target:\", raw_dir)\n"
   ]
  },
  {
   "cell_type": "code",
   "execution_count": null,
   "id": "72149945",
   "metadata": {},
   "outputs": [],
   "source": [
    "\n",
    "# 시간대별 파일을 순회하며 다운로드\n",
    "for hour_dt, url in hour_urls(start_utc, end_utc):\n",
    "    out_name = f\"{hour_dt.strftime('%Y-%m-%d')}-{hour_dt.hour}.json.gz\"\n",
    "    out_path = os.path.join(raw_dir, out_name)\n",
    "    _ = download_one(url, out_path)\n",
    "print(\"다운로드 완료.\")\n"
   ]
  },
  {
   "cell_type": "code",
   "execution_count": null,
   "id": "86e53f46",
   "metadata": {},
   "outputs": [],
   "source": [
    "\n",
    "# (선택) repo/org 필터링 저장: TARGET_ORGS/TARGET_REPOS가 지정된 경우, 필터링 된 라인만 남긴 별도 파일 생성\n",
    "if TARGET_ORGS or TARGET_REPOS:\n",
    "    for fn in os.listdir(raw_dir):\n",
    "        if not fn.endswith(\".json.gz\"): \n",
    "            continue\n",
    "        full = os.path.join(raw_dir, fn)\n",
    "        filtered_path = os.path.join(raw_dir, fn.replace(\".json.gz\", \".filtered.json.gz\"))\n",
    "        cnt_in, cnt_out = 0, 0\n",
    "        with gzip.open(filtered_path, \"wt\", encoding=\"utf-8\") as wf:\n",
    "            for evt in parse_json_gz(full):\n",
    "                cnt_in += 1\n",
    "                repo = (evt.get(\"repo\") or {}).get(\"name\") or \"\"\n",
    "                org = repo.split(\"/\")[0] if \"/\" in repo else \"\"\n",
    "                ok = True\n",
    "                if TARGET_ORGS and org not in TARGET_ORGS:\n",
    "                    ok = False\n",
    "                if TARGET_REPOS and repo not in TARGET_REPOS:\n",
    "                    ok = False\n",
    "                if ok:\n",
    "                    wf.write(json.dumps(evt, ensure_ascii=False) + \"\\n\")\n",
    "                    cnt_out += 1\n",
    "        print(f\"{fn}: in={cnt_in}, out={cnt_out}, -> {os.path.basename(filtered_path)}\")\n",
    "else:\n",
    "    print(\"필터링 생략 (전체 저장).\")\n"
   ]
  }
 ],
 "metadata": {
  "kernelspec": {
   "display_name": "guardian_poc",
   "language": "python",
   "name": "python3"
  },
  "language_info": {
   "codemirror_mode": {
    "name": "ipython",
    "version": 3
   },
   "file_extension": ".py",
   "mimetype": "text/x-python",
   "name": "python",
   "nbconvert_exporter": "python",
   "pygments_lexer": "ipython3",
   "version": "3.9.23"
  }
 },
 "nbformat": 4,
 "nbformat_minor": 5
}

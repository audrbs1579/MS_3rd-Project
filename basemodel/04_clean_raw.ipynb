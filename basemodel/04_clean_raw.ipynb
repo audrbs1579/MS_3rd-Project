{
 "cells": [
  {
   "cell_type": "code",
   "execution_count": null,
   "id": "230b00bf",
   "metadata": {},
   "outputs": [],
   "source": [
    "import os\n",
    "from common import get_paths"
   ]
  },
  {
   "cell_type": "code",
   "execution_count": null,
   "id": "598db3ba",
   "metadata": {},
   "outputs": [],
   "source": [
    "BASE_DIR = r\"C:\\Users\\EL040\\Desktop\\MS_3rd-Project\\basemodel\"\n",
    "TARGET = \"both\"   # \"train\", \"test\", \"both\"\n",
    "\n",
    "paths = get_paths(BASE_DIR)"
   ]
  },
  {
   "cell_type": "code",
   "execution_count": null,
   "id": "57bd5a65",
   "metadata": {},
   "outputs": [],
   "source": [
    "\n",
    "def clean_raw(folder):\n",
    "    if not os.path.exists(folder):\n",
    "        print(f\"{folder} (경로 없음)\")\n",
    "        return\n",
    "    files = [f for f in os.listdir(folder) if f.endswith(\".json.gz\") or f.endswith(\".ERR.txt\")]\n",
    "    if not files:\n",
    "        print(f\"{folder}: 삭제할 파일 없음\")\n",
    "        return\n",
    "    for fn in files:\n",
    "        try:\n",
    "            os.remove(os.path.join(folder, fn))\n",
    "        except Exception as e:\n",
    "            print(f\"삭제 실패: {fn} ({e})\")\n",
    "    print(f\"{folder}: {len(files)}개 파일 삭제 완료\")\n",
    "\n",
    "if TARGET in (\"train\", \"both\"):\n",
    "    clean_raw(paths[\"data_train_raw\"])\n",
    "if TARGET in (\"test\", \"both\"):\n",
    "    clean_raw(paths[\"data_test_raw\"])"
   ]
  }
 ],
 "metadata": {
  "kernelspec": {
   "display_name": "guardian_poc",
   "language": "python",
   "name": "python3"
  },
  "language_info": {
   "name": "python",
   "version": "3.10.18"
  }
 },
 "nbformat": 4,
 "nbformat_minor": 5
}
